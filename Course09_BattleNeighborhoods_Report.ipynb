{
 "cells": [
  {
   "cell_type": "markdown",
   "metadata": {},
   "source": [
    "# Introduction/Business Problem"
   ]
  },
  {
   "cell_type": "markdown",
   "metadata": {},
   "source": [
    "New Yourk City is a city with several choices of restaurants, bars and cafes. A traveller would like to find the best Neighborhoods in nyc of a venue categories and price (\"$\",\"$$\", \"$$$\", \"$$$$\")."
   ]
  },
  {
   "cell_type": "markdown",
   "metadata": {},
   "source": [
    "# Data"
   ]
  },
  {
   "cell_type": "markdown",
   "metadata": {},
   "source": [
    "As a solution the application will use information returned by Foursquare, comparing the neighborhoods and using k-means Clustering algorithm to identify the 3 neighborhoods that most meet the criteria reported by travelers. The result will also be plotted on a map. The colors of the locations will be according to the price range: being \"$\"  blue,\"$$\" green,' $$$ 'orange and' $$$$ 'red."
   ]
  }
 ],
 "metadata": {
  "kernelspec": {
   "display_name": "Python 3",
   "language": "python",
   "name": "python3"
  },
  "language_info": {
   "codemirror_mode": {
    "name": "ipython",
    "version": 3
   },
   "file_extension": ".py",
   "mimetype": "text/x-python",
   "name": "python",
   "nbconvert_exporter": "python",
   "pygments_lexer": "ipython3",
   "version": "3.6.6"
  }
 },
 "nbformat": 4,
 "nbformat_minor": 2
}
