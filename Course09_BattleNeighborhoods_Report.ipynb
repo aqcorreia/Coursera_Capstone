{
 "cells": [
  {
   "cell_type": "markdown",
   "metadata": {},
   "source": [
    "# Introduction/Business Problem"
   ]
  },
  {
   "cell_type": "markdown",
   "metadata": {},
   "source": [
    "New Yourk City is a city with several choices of restaurants, bars and cafes. A traveller would like to find the best Neighborhoods in nyc of a venue categories and price (\"$\",\"$$\", \"$$$\", \"$$$$\")."
   ]
  },
  {
   "cell_type": "markdown",
   "metadata": {},
   "source": [
    "# Data"
   ]
  },
  {
   "cell_type": "markdown",
   "metadata": {},
   "source": [
    "- The Neighborhoods of NYC with their coordinates:  NY_neighborhoods.csv\n",
    "\n",
    "- From Foursquare:\n",
    "  - Venues from the Neighborhoods \n",
    "  - Category Venues\n",
    "  - Price Venues (“$”, “$$”, “$$$”, “$$$$”)"
   ]
  }
 ],
 "metadata": {
  "kernelspec": {
   "display_name": "Python 3",
   "language": "python",
   "name": "python3"
  },
  "language_info": {
   "codemirror_mode": {
    "name": "ipython",
    "version": 3
   },
   "file_extension": ".py",
   "mimetype": "text/x-python",
   "name": "python",
   "nbconvert_exporter": "python",
   "pygments_lexer": "ipython3",
   "version": "3.6.6"
  }
 },
 "nbformat": 4,
 "nbformat_minor": 2
}
